{
 "cells": [
  {
   "cell_type": "code",
   "execution_count": null,
   "metadata": {},
   "outputs": [],
   "source": [
    "lst = [i for i in range(3, 14)]"
   ]
  },
  {
   "cell_type": "code",
   "execution_count": null,
   "metadata": {},
   "outputs": [],
   "source": [
    "print (lst)"
   ]
  },
  {
   "cell_type": "code",
   "execution_count": null,
   "metadata": {},
   "outputs": [],
   "source": [
    "lst.append(30)"
   ]
  },
  {
   "cell_type": "code",
   "execution_count": null,
   "metadata": {},
   "outputs": [],
   "source": [
    "lst"
   ]
  },
  {
   "cell_type": "markdown",
   "metadata": {},
   "source": [
    "## How to upload Jupyter Notebooks without sending any data in the cloud \n",
    "\n",
    "#### This works for the local directory and is not a global setting\n",
    "\n",
    "* On command line\n",
    "1. git clone https://github.com/toobaz/ipynb_output_filter.git\n",
    "\n",
    "2. touch .gitattributes\n",
    "\n",
    "3. Open this file and add a line -\n",
    "\n",
    "*.ipynb    filter=dropoutput_ipynb\n",
    "\n",
    "4. Run these commands on the command line\n",
    "\n",
    "git config --local core.attributesfile .gitattributes\n",
    "sanhita@chatnoir: git config --local filter.dropoutput_ipynb.clean ipynb_output_filter/ipynb_output_filter.py\n",
    "sanhita@chatnoir: git config --local filter.dropoutput_ipynb.smudge cat\n"
   ]
  }
 ],
 "metadata": {
  "kernelspec": {
   "display_name": "Python 2",
   "language": "python",
   "name": "python2"
  },
  "language_info": {
   "codemirror_mode": {
    "name": "ipython",
    "version": 2
   },
   "file_extension": ".py",
   "mimetype": "text/x-python",
   "name": "python",
   "nbconvert_exporter": "python",
   "pygments_lexer": "ipython2"
  }
 },
 "nbformat": 4,
 "nbformat_minor": 2
}
