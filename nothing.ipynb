{
 "cells": [
  {
   "cell_type": "code",
   "execution_count": null,
   "metadata": {},
   "outputs": [],
   "source": [
    "lst = [i for i in range(3, 14)]"
   ]
  },
  {
   "cell_type": "code",
   "execution_count": null,
   "metadata": {},
   "outputs": [],
   "source": [
    "print (lst)"
   ]
  },
  {
   "cell_type": "code",
   "execution_count": null,
   "metadata": {},
   "outputs": [],
   "source": [
    "lst.append(30)"
   ]
  },
  {
   "cell_type": "code",
   "execution_count": null,
   "metadata": {},
   "outputs": [],
   "source": [
    "lst"
   ]
  },
  {
   "cell_type": "markdown",
   "metadata": {},
   "source": [
    "## How to upload Jupyter Notebooks without sending any data in the cloud \n",
    "\n",
    "#### This works for the local directory and is not a global setting\n",
    "\n",
    "1. git clone https://github.com/toobaz/ipynb_output_filter.git\n",
    "\n",
    "2. touch .gitattributes\n",
    "\n",
    "3. Open this file and add a line -\n",
    "\n",
    "*.ipynb    filter=dropoutput_ipynb\n",
    "\n",
    "4. Run these commands on the command line\n",
    "\n",
    "    * git config --local core.attributesfile .gitattributes\n",
    "    * git config --local filter.dropoutput_ipynb.clean ipynb_output_filter/ipynb_output_filter.py\n",
    "    * git config --local filter.dropoutput_ipynb.smudge cat\n",
    "\n",
    "5. Do some real work in Jupyter Notebooks, as promised to your boss\n",
    "\n",
    "6. Usual routine of \n",
    "    * git add nothing.ipynb\n",
    "    * git commit - m ' '\n",
    "    * git push\n",
    "    \n",
    "\n",
    "#### For global settings - \n",
    "\n",
    "Read the first answer here - \n",
    "https://stackoverflow.com/questions/18734739/using-ipython-notebooks-under-version-control\n",
    "\n",
    "The one above is the local version instead of global in these commands.\n",
    "\n",
    "Save a file with this content somewhere (for the following, let us assume ~/bin/ipynb_output_filter.py)\n",
    "    Make it executable (chmod +x ~/bin/ipynb_output_filter.py)\n",
    "\n",
    "    Create the file ~/.gitattributes, with the following content\n",
    "\n",
    "    *.ipynb    filter=dropoutput_ipynb\n",
    "\n",
    "    Run the following commands:\n",
    "\n",
    "    git config --global core.attributesfile ~/.gitattributes\n",
    "    git config --global filter.dropoutput_ipynb.clean ~/bin/ipynb_output_filter.py\n",
    "    git config --global filter.dropoutput_ipynb.smudge cat\n",
    "\n",
    "Done!"
   ]
  },
  {
   "cell_type": "markdown",
   "metadata": {},
   "source": []
  }
 ],
 "metadata": {
  "kernelspec": {
   "display_name": "Python 2",
   "language": "python",
   "name": "python2"
  },
  "language_info": {
   "codemirror_mode": {
    "name": "ipython",
    "version": 2
   },
   "file_extension": ".py",
   "mimetype": "text/x-python",
   "name": "python",
   "nbconvert_exporter": "python",
   "pygments_lexer": "ipython2"
  }
 },
 "nbformat": 4,
 "nbformat_minor": 2
}
